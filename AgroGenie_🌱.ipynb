{
  "nbformat": 4,
  "nbformat_minor": 0,
  "metadata": {
    "colab": {
      "provenance": [],
      "include_colab_link": true
    },
    "kernelspec": {
      "name": "python3",
      "display_name": "Python 3"
    },
    "language_info": {
      "name": "python"
    }
  },
  "cells": [
    {
      "cell_type": "markdown",
      "metadata": {
        "id": "view-in-github",
        "colab_type": "text"
      },
      "source": [
        "<a href=\"https://colab.research.google.com/github/Angshu727/Angshu727/blob/main/AgroGenie_%F0%9F%8C%B1.ipynb\" target=\"_parent\"><img src=\"https://colab.research.google.com/assets/colab-badge.svg\" alt=\"Open In Colab\"/></a>"
      ]
    },
    {
      "cell_type": "markdown",
      "source": [
        "# 🌾 AgroGenie: Your AI-Powered Smart Farming Assistant\n",
        "\n",
        "AgroGenie is an intelligent, multi-agent system built to empower farmers and agri-entrepreneurs with personalized crop planning, fertilizer guidance, and profit forecasting — all through a single AI-driven interface.\n",
        "\n",
        "Designed to be practical, scalable, and region-aware, AgroGenie aligns with **UN Sustainable Development Goal 2: Zero Hunger**, helping improve agricultural outcomes through data-backed recommendations and smart decision-making.\n",
        "\n",
        "## 🧠 What AgroGenie Can Do\n",
        "Given basic inputs like **land size**, **soil type**, **region**, **crop**, and **budget**, AgroGenie can:\n",
        "- 🌿 Suggest suitable crops based on climate, soil, and cost\n",
        "- 💧 Recommend optimal fertilizer combinations (organic + inorganic)\n",
        "- 📈 Estimate total yield, market price, and profit or loss\n",
        "- 📃 Export a report and AI summary with recommendations for success\n",
        "\n",
        "## 🔧 Powered By\n",
        "This project is built using modern AI tools and agent coordination frameworks:\n",
        "- 🧠 **Gemini Pro** – LLM for reasoning, planning, and natural language\n",
        "- 🔁 **LangGraph** – for stateful multi-agent workflows\n",
        "- 🧩 **LangChain** – to structure prompts and tools\n",
        "- 🧪 **ipywidgets** – for building interactive dashboards in notebooks\n",
        "\n",
        "## 🧬 Architecture Overview\n",
        "AgroGenie uses a modular, multi-agent architecture:\n",
        "- 📌 **Crop Advisor Agent** – recommends crops\n",
        "- 💧 **Fertilizer Advisor Agent** – suggests fertilizer plans\n",
        "- 📈 **Profit Estimator Agent** – estimates yield, pricing, and profit\n",
        "\n",
        "Everything is orchestrated using a state machine (LangGraph) for clean control and flexible agent routing.\n",
        "\n",
        "---\n",
        "\n"
      ],
      "metadata": {
        "id": "BGaSXaRmvGRT"
      }
    },
    {
      "cell_type": "markdown",
      "source": [
        "# 📦 Install Necessary Packages\n",
        "\n",
        "This cell installs all the required Python packages for the AgroGenie project, including `langchain`, `langgraph`, `google-generativeai` (for Gemini), and `ipywidgets` (for the interactive user interface."
      ],
      "metadata": {
        "id": "GRzodnWGNMQo"
      }
    },
    {
      "cell_type": "code",
      "execution_count": null,
      "metadata": {
        "id": "bpwpcGHENJoc"
      },
      "outputs": [],
      "source": [
        "!pip install -q langchain langgraph google-generativeai ipywidgets"
      ]
    },
    {
      "cell_type": "markdown",
      "source": [
        "# 🔐 Set Up Gemini API Key\n",
        "\n",
        "This cell configures the Google Generative AI library with your Gemini API key.\n",
        "\n",
        "**Instructions:**\n",
        "1. Obtain your API key from [Google AI Studio](https://makersuite.google.com/app).\n",
        "2. Replace `\"your-api-key-here\"` with your actual API key in the code below."
      ],
      "metadata": {
        "id": "0bRT2R2HNP_L"
      }
    },
    {
      "cell_type": "code",
      "source": [
        "import google.generativeai as genai\n",
        "\n",
        "# 🔑 Add your API key here\n",
        "genai.configure(api_key=\"your-api-key-here\")\n",
        "\n",
        "# Create a model instance\n",
        "model = genai.GenerativeModel(\n",
        "    model_name=\"gemini-1.5-flash-latest\",\n",
        "    generation_config={\"temperature\": 0.7}\n",
        ")"
      ],
      "metadata": {
        "id": "335f8Si1NSv4"
      },
      "execution_count": null,
      "outputs": []
    },
    {
      "cell_type": "markdown",
      "source": [
        "# 📋 Import Python Modules\n",
        "\n",
        "This cell imports all the necessary modules from `langchain`, `langgraph`, and `ipywidgets` that are required to build the multi-agent system and its user interface."
      ],
      "metadata": {
        "id": "6g65AJRUNZrn"
      }
    },
    {
      "cell_type": "code",
      "source": [
        "from langchain.tools import tool\n",
        "from langgraph.graph import StateGraph, END\n",
        "import ipywidgets as widgets\n",
        "from IPython.display import display, clear_output"
      ],
      "metadata": {
        "id": "GFVAMJ7aNbfs"
      },
      "execution_count": null,
      "outputs": []
    },
    {
      "cell_type": "markdown",
      "source": [
        "# 🌾 Tool: Crop Advisor Agent\n",
        "\n",
        "This function simulates a Crop Advisor Agent using the Gemini model. It takes user input regarding soil, land size, region, and budget, and uses the language model to suggest 2-3 suitable and sustainable crops.\n",
        "\n",
        "The function `crop_advisor_tool` takes a `user_input` dictionary and returns a dictionary containing a list of `crop_suggestions`."
      ],
      "metadata": {
        "id": "WAAV2iMJzFmk"
      }
    },
    {
      "cell_type": "code",
      "source": [
        "def crop_advisor_tool(user_input):\n",
        "    prompt = f\"\"\"\n",
        "You are a smart agriculture assistant.\n",
        "\n",
        "Suggest 2–3 suitable crops for:\n",
        "- Soil: {user_input['soil']}\n",
        "- Land: {user_input['land']} acres\n",
        "- Region: {user_input['region']}\n",
        "- Budget: ₹{user_input['budget']}\n",
        "\n",
        "Respond briefly in one sentence with crop names and why they're suitable.\n",
        "\"\"\"\n",
        "    response = model.generate_content(prompt)\n",
        "    # Assuming the response is a comma-separated string of crop names, split it into a list\n",
        "    crop_suggestions = [crop.strip() for crop in response.text.strip().split(',')]\n",
        "    return {\n",
        "        \"crop_suggestions\": crop_suggestions\n",
        "    }"
      ],
      "metadata": {
        "id": "SJHznKZwN2ud"
      },
      "execution_count": null,
      "outputs": []
    },
    {
      "cell_type": "markdown",
      "source": [
        "# 💧 Tool: Fertilizer Advisor Agent\n",
        "\n",
        "This function simulates a Fertilizer Advisor Agent using the Gemini model. It takes user input about the selected crop, soil type, budget, and region to suggest an eco-friendly fertilizer plan.\n",
        "\n",
        "The function `fertilizer_advisor_tool` takes a `user_input` dictionary and returns a dictionary containing a list of `fertilizer_plan` suggestions."
      ],
      "metadata": {
        "id": "r1QqZOfYzImc"
      }
    },
    {
      "cell_type": "code",
      "source": [
        "def fertilizer_advisor_tool(user_input):\n",
        "    prompt = f\"\"\"\n",
        "You are a soil fertility advisor.\n",
        "\n",
        "Suggest a suitable fertilizer plan for:\n",
        "- Crop: {user_input['crop']}\n",
        "- Soil: {user_input['soil']}\n",
        "- Budget: ₹{user_input['budget']}\n",
        "- Region: {user_input['region']}\n",
        "\n",
        "Respond in one sentence with fertilizer names or organic methods.\n",
        "\"\"\"\n",
        "    response = model.generate_content(prompt)\n",
        "    # Assuming the response is a comma-separated string of fertilizer names, split it into a list\n",
        "    fertilizer_plan = [fert.strip() for fert in response.text.strip().split(',')]\n",
        "    return {\n",
        "        \"fertilizer_plan\": fertilizer_plan\n",
        "    }"
      ],
      "metadata": {
        "id": "1y_bXpcFzJte"
      },
      "execution_count": null,
      "outputs": []
    },
    {
      "cell_type": "markdown",
      "source": [
        "# 📈 Tool: Profit Estimator Agent\n",
        "\n",
        "This function simulates a Profit Estimator Agent using the Gemini model. It takes user input and the current state of the graph (including crop and fertilizer suggestions) to estimate potential yield, market price, and total profit. It also provides comments and concerns about the input.\n",
        "\n",
        "The function `profit_estimator_tool` takes the `user_input` dictionary and the full `full_state` of the graph and returns a dictionary containing the `ai_profit_analysis`, `estimated_yield`, `estimated_profit`, and `market_price`."
      ],
      "metadata": {
        "id": "ERJcEhQFzLFo"
      }
    },
    {
      "cell_type": "code",
      "source": [
        "import re\n",
        "\n",
        "def extract_number(value):\n",
        "    match = re.search(r\"₹?([\\d,]+)\", value.replace(',', ''))\n",
        "    return int(match.group(1)) if match else 0\n",
        "\n",
        "def extract_yield(text):\n",
        "    match = re.search(r\"Total Estimated Yield.*?[:\\-]\\s*([\\d,]+)\\s*kg\", text, re.IGNORECASE)\n",
        "    return match.group(1).strip() + \" kg\" if match else \"N/A\"\n",
        "\n",
        "def extract_price(text):\n",
        "    matches = re.findall(r\"\\*\\*?\\s*([A-Za-z\\s]+):\\s*₹?(\\d+)/kg\", text)\n",
        "    if matches:\n",
        "        prices = [f\"{crop.strip()}: ₹{price}/kg\" for crop, price in matches]\n",
        "        return \", \".join(prices)\n",
        "    return \"N/A\"\n",
        "\n",
        "def extract_profit(text):\n",
        "    match = re.search(r\"Estimated Profit.*?[:\\-]\\s*₹?([\\d,]+)\", text)\n",
        "    if match:\n",
        "        return f\"₹{match.group(1).strip()}\"\n",
        "    else:\n",
        "        # Try to find total revenue and cost for calculation fallback\n",
        "        revenue_match = re.search(r\"Total Revenue.*?=\\s*₹?([\\d,]+)\", text)\n",
        "        cost_match = re.search(r\"Total Costs.*?=\\s*₹?([\\d,]+)\", text)\n",
        "        if revenue_match and cost_match:\n",
        "            revenue = int(revenue_match.group(1).replace(',', ''))\n",
        "            cost = int(cost_match.group(1).replace(',', ''))\n",
        "            return f\"₹{revenue - cost}\"\n",
        "    return \"N/A\"\n",
        "\n",
        "\n",
        "def profit_estimator_tool(user_input, full_state):\n",
        "    fertilizer_info = str(full_state.get('fertilizer_plan', 'Not available'))\n",
        "    crop_info = str(full_state.get('crop_suggestions', 'Not available'))\n",
        "\n",
        "    prompt = f\"\"\"\n",
        "    You are an agriculture expert.\n",
        "\n",
        "    Based on the following input:\n",
        "    - Land: {user_input[\"land\"]} square meters\n",
        "    - Crop: {user_input['crop']}\n",
        "    - Region: {user_input['region']}\n",
        "    - Budget: ₹{user_input['budget']}\n",
        "    - Fertilizer: {fertilizer_info}\n",
        "    - Crop Suggestions: {crop_info}\n",
        "\n",
        "    Estimate:\n",
        "    1. Total yield (kg)\n",
        "    2. Average market price (₹/kg)\n",
        "    3. Total profit (₹)\n",
        "    4. Any concerns about the input\n",
        "\n",
        "    Answer in this format:\n",
        "    - Estimated Yield: ...\n",
        "    - Market Price: ...\n",
        "    - Estimated Profit: ...\n",
        "    - Comments: ...\n",
        "    \"\"\"\n",
        "\n",
        "    response = model.generate_content(prompt)\n",
        "    raw_text = response.text.strip()\n",
        "\n",
        "    return {\n",
        "      \"ai_profit_analysis\": raw_text,\n",
        "      \"estimated_yield\": extract_yield(raw_text),\n",
        "      \"estimated_profit\": extract_profit(raw_text),\n",
        "      \"market_price\": extract_price(raw_text),\n",
        "    }\n"
      ],
      "metadata": {
        "id": "UyKKHPTEzMiD"
      },
      "execution_count": null,
      "outputs": []
    },
    {
      "cell_type": "markdown",
      "source": [
        "# 📊 Define Graph State\n",
        "\n",
        "This cell defines the `GraphState` using `TypedDict`. This structure represents the state that is passed between the nodes (agents) in the LangGraph workflow. It includes fields for user input, crop suggestions, fertilizer plan, estimated yield, estimated profit, and market price."
      ],
      "metadata": {
        "id": "klB0gBWhimI2"
      }
    },
    {
      "cell_type": "code",
      "source": [
        "from langgraph.graph import StateGraph\n",
        "from typing import TypedDict, List, Dict, Any\n",
        "\n",
        "class GraphState(TypedDict):\n",
        "    \"\"\"Represents the state of our graph.\n",
        "\n",
        "    Attributes:\n",
        "        input: User input data (land, soil, etc.)\n",
        "        crop_suggestions: Suggested crops from CropAdvisor\n",
        "        fertilizer_plan: Suggested fertilizer plan from FertilizerAdvisor\n",
        "        estimated_yield: Estimated yield from ProfitEstimator\n",
        "        estimated_profit: Estimated profit from ProfitEstimator\n",
        "        fertilizer_budget_usage: Budget usage for fertilizers\n",
        "    \"\"\"\n",
        "    input: Dict[str, Any]\n",
        "    crop_suggestions: List[str] | None\n",
        "    fertilizer_plan: List[str] | None\n",
        "    estimated_yield: str | None\n",
        "    estimated_profit: str | None\n",
        "    fertilizer_budget_usage: str | None\n",
        "    market_price: str | None\n",
        "    ai_profit_analysis: str | None"
      ],
      "metadata": {
        "id": "V3dsFPCM2ArY"
      },
      "execution_count": null,
      "outputs": []
    },
    {
      "cell_type": "markdown",
      "source": [
        "# 🧠 Define LangGraph Nodes for Each Agent\n",
        "\n",
        "This cell defines the individual nodes for the LangGraph. Each node wraps one of the agent tool functions (`crop_advisor_tool`, `fertilizer_advisor_tool`, `profit_estimator_tool`) and updates the `GraphState` with the results from that agent.\n",
        "\n",
        "- `crop_node`: Executes the Crop Advisor Tool.\n",
        "- `fertilizer_node`: Executes the Fertilizer Advisor Tool.\n",
        "- `profit_node`: Executes the Profit Estimator Tool."
      ],
      "metadata": {
        "id": "kQcnr8XYzN-B"
      }
    },
    {
      "cell_type": "code",
      "source": [
        "from typing import TypedDict, List, Dict, Any\n",
        "from langgraph.graph import StateGraph, END # Import StateGraph and END here as well, just in case they are needed\n",
        "\n",
        "def crop_node(state: GraphState) -> GraphState:\n",
        "    result = crop_advisor_tool(state[\"input\"])\n",
        "    state.update(result)\n",
        "    return state\n",
        "\n",
        "def fertilizer_node(state: GraphState) -> GraphState:\n",
        "    result = fertilizer_advisor_tool(state[\"input\"])\n",
        "    state.update(result)\n",
        "    return state\n",
        "\n",
        "def profit_node(state: GraphState) -> GraphState:\n",
        "    result = profit_estimator_tool(state[\"input\"], state)\n",
        "    state.update(result)\n",
        "    return state"
      ],
      "metadata": {
        "id": "5Wau5KkdzPpd"
      },
      "execution_count": null,
      "outputs": []
    },
    {
      "cell_type": "markdown",
      "source": [
        "# 🔁 Construct LangGraph Multi-Agent Workflow\n",
        "\n",
        "This cell builds the LangGraph, defining the sequence of execution for the agents. The workflow starts with the Crop Advisor, followed by the Fertilizer Advisor, and finally the Profit Estimator. The graph ends after the Profit Estimator node."
      ],
      "metadata": {
        "id": "V_tUnlQczR_L"
      }
    },
    {
      "cell_type": "code",
      "source": [
        "builder = StateGraph(GraphState)\n",
        "\n",
        "builder.add_node(\"CropAdvisor\", crop_node)\n",
        "builder.add_node(\"FertilizerAdvisor\", fertilizer_node)\n",
        "builder.add_node(\"ProfitEstimator\", profit_node)\n",
        "\n",
        "\n",
        "builder.set_entry_point(\"CropAdvisor\")\n",
        "builder.add_edge(\"CropAdvisor\", \"FertilizerAdvisor\")\n",
        "builder.add_edge(\"FertilizerAdvisor\", \"ProfitEstimator\")\n",
        "builder.add_edge(\"ProfitEstimator\", END)\n",
        "\n",
        "graph = builder.compile()"
      ],
      "metadata": {
        "id": "AHwE0d8VzSzS"
      },
      "execution_count": null,
      "outputs": []
    },
    {
      "cell_type": "markdown",
      "source": [
        "# 📊 Display Dashboard Function\n",
        "\n",
        "This function takes the `final_state` from the LangGraph execution and displays the results in a structured format using `ipywidgets` and Markdown. It presents the suggested crops, fertilizer plan, estimated yield, market price, estimated profit, and the full AI-estimated summary."
      ],
      "metadata": {
        "id": "CW1N3KdpzUTA"
      }
    },
    {
      "cell_type": "code",
      "source": [
        "from IPython.display import Markdown\n",
        "\n",
        "def display_dashboard(final_state):\n",
        "    # Extract results\n",
        "    crops = final_state.get(\"crop_suggestions\", \"N/A\")\n",
        "    ferts = final_state.get(\"fertilizer_plan\", [])\n",
        "    ferts_text = \", \".join(ferts) if isinstance(ferts, list) else ferts\n",
        "\n",
        "    # Debug print for profit_summary\n",
        "    profit_summary = final_state.get(\"ai_profit_analysis\", \"N/A\")\n",
        "\n",
        "    yield_est = final_state.get(\"estimated_yield\", \"N/A\")\n",
        "    price = final_state.get(\"market_price\", \"N/A\")\n",
        "\n",
        "\n",
        "\n",
        "    # Widgets\n",
        "    crop_box = widgets.HTML(f\"<b>🌾 Crops Suggested:</b><br>{crops}\")\n",
        "    fert_box = widgets.HTML(f\"<b>💧 Fertilizer Plan:</b><br>{ferts_text}\")\n",
        "    yield_box = widgets.HTML(f\"<b>📈 Estimated Yield:</b> {final_state.get('estimated_yield', 'N/A')}\")\n",
        "    price_box = widgets.HTML(f\"<b>💰 Market Price:</b> {final_state.get('market_price', 'N/A')}\")\n",
        "    profit_box = widgets.HTML(f\"<b>💸 Estimated Profit:</b> {final_state.get('estimated_profit', 'N/A')}\")\n",
        "\n",
        "    display(Markdown(f\"### 💸 AI-Estimated Summary\\n\\n{profit_summary}\"))"
      ],
      "metadata": {
        "id": "4MUEZ0xkzVLw"
      },
      "execution_count": null,
      "outputs": []
    },
    {
      "cell_type": "markdown",
      "source": [
        "# 🚀 User Interface: Input Form and Workflow Execution\n",
        "\n",
        "This cell creates an interactive form using `ipywidgets` for the user to input details about their land, soil, desired crop, budget, and region. It also defines the `on_submit_clicked` function, which is triggered when the submit button is pressed. This function clears the output, displays a processing message, invokes the LangGraph workflow with the user's input, and finally displays the results using the `display_dashboard` function."
      ],
      "metadata": {
        "id": "M0kKfoRQ230S"
      }
    },
    {
      "cell_type": "code",
      "source": [
        "# 🎛️ Define User Input Widgets + Submit Button\n",
        "\n",
        "import ipywidgets as widgets\n",
        "from IPython.display import display, clear_output\n",
        "\n",
        "# Define inputs\n",
        "land_input = widgets.IntText(\n",
        "    description=\"Land (m²)\",\n",
        "    placeholder=\"Enter land area in square meters\"\n",
        ")\n",
        "\n",
        "soil_input = widgets.Dropdown(\n",
        "    options=[\"Sandy\", \"Clay\", \"Loam\", \"Silty\", \"Black\"],\n",
        "    description=\"Soil\"\n",
        ")\n",
        "crop_input = widgets.Combobox(\n",
        "    placeholder='Type or choose crop (e.g., wheat, tomato, maize)',\n",
        "    options=[\n",
        "        \"Wheat\", \"Rice\", \"Maize\", \"Groundnut\", \"Sunflower\",\n",
        "        \"Tomato\", \"Onion\", \"Potato\", \"Chickpea\", \"Pigeon Pea\",\n",
        "        \"Watermelon\", \"Muskmelon\", \"Cowpea\", \"Barley\", \"Sorghum\"\n",
        "    ],\n",
        "    description=\"Crop\"\n",
        ")\n",
        "\n",
        "budget_input = widgets.IntText(description=\"Budget (₹)\")\n",
        "region_input = widgets.Text(description=\"Region\")\n",
        "\n",
        "# Define button\n",
        "submit_button = widgets.Button(description=\"Submit\", button_style='success')\n",
        "\n",
        "# Arrange form layout\n",
        "input_form = widgets.VBox([\n",
        "    land_input, soil_input, crop_input, budget_input, region_input, submit_button\n",
        "])\n",
        "\n",
        "# Global data holder\n",
        "user_input_data = {}\n",
        "\n",
        "# Define handler\n",
        "def on_submit_clicked(_):\n",
        "\n",
        "    global final_state\n",
        "\n",
        "    if not all([land_input.value, soil_input.value, crop_input.value, budget_input.value, region_input.value]):\n",
        "      print(\"❌ Please fill all fields before submitting.\")\n",
        "      return\n",
        "\n",
        "    global user_input_data\n",
        "    user_input_data = {\n",
        "        \"land\": land_input.value,\n",
        "        \"soil\": soil_input.value,\n",
        "        \"crop\": crop_input.value,\n",
        "        \"budget\": budget_input.value,\n",
        "        \"region\": region_input.value\n",
        "    }\n",
        "\n",
        "    clear_output(wait=True)\n",
        "    display(input_form)\n",
        "    print(\"🧠 Running AgroGenie Multi-Agent Engine...\")\n",
        "\n",
        "    # Run LangGraph\n",
        "    state = {\"input\": user_input_data}\n",
        "    final_state = graph.invoke(state)\n",
        "\n",
        "    # Show dashboard\n",
        "    display_dashboard(final_state)\n",
        "\n",
        "    # Show export + summary\n",
        "    # display(export_btn, output_area)\n",
        "    # display(ai_summary_box)\n",
        "\n",
        "    # Optional: chart - Temporarily disabled as profit is in text summary\n",
        "    # show_profit_chart(final_state)\n",
        "\n",
        "# Link button\n",
        "submit_button.on_click(on_submit_clicked)\n",
        "\n",
        "# Show form\n",
        "display(input_form)"
      ],
      "metadata": {
        "id": "1usVmQi026fj"
      },
      "execution_count": null,
      "outputs": []
    },
    {
      "cell_type": "markdown",
      "source": [
        "# 🧠 Extracted AI Summary Recommendation\n",
        "\n",
        "This cell extracts and displays the recommendation/comments section from the AI's profit analysis using `ipywidgets.HTML`. This provides a concise summary of the AI's insights and concerns."
      ],
      "metadata": {
        "id": "jAE878aI1Kak"
      }
    },
    {
      "cell_type": "code",
      "source": [
        "import markdown # Import the markdown library\n",
        "\n",
        "ai_summary_text = final_state.get('ai_profit_analysis', 'N/A').split('Comments:')[-1].strip()\n",
        "\n",
        "# Convert markdown to HTML\n",
        "ai_summary_html = markdown.markdown(ai_summary_text)\n",
        "\n",
        "ai_summary_box = widgets.HTML(\n",
        "    value=f\"<b>🧠 Recommendation:</b><br>{ai_summary_html}\",\n",
        "    layout=widgets.Layout(margin=\"20px 0 0 0\")\n",
        ")\n",
        "\n",
        "display(ai_summary_box)"
      ],
      "metadata": {
        "id": "NL0eCFst1K1n"
      },
      "execution_count": null,
      "outputs": []
    },
    {
      "cell_type": "markdown",
      "source": [
        "# 📂 Export AI Report as Text File\n",
        "\n",
        "This cell provides functionality to export the complete AI-generated report as a text file. It defines an `export_report` function that formats the `final_state` data into a readable text report and creates a downloadable link using `IPython.display.FileLink`. A button (`export_btn`) is created to trigger the export process."
      ],
      "metadata": {
        "id": "EQ0pFC4e1XhR"
      }
    },
    {
      "cell_type": "code",
      "source": [
        "# 📂 Export AI Report as Text File\n",
        "\n",
        "from IPython.display import FileLink\n",
        "import ipywidgets as widgets\n",
        "import os\n",
        "from google.colab import files\n",
        "\n",
        "def export_report(final_state):\n",
        "    report_path = \"AgroGenie_Report.txt\"\n",
        "    with open(report_path, \"w\", encoding=\"utf-8\") as f:\n",
        "        f.write(\"🌱 AgroGenie Report\\n\\n\")\n",
        "        f.write(\"🔸 Region: \" + final_state['input'].get('region', 'N/A') + \"\\n\")\n",
        "        f.write(\"🔸 Crop: \" + final_state['input'].get('crop', 'N/A') + \"\\n\")\n",
        "        f.write(\"🔸 Soil: \" + final_state['input'].get('soil', 'N/A') + \"\\n\")\n",
        "        f.write(\"🔸 Land: \" + str(final_state['input'].get('land', 'N/A')) + \" acres\\n\")\n",
        "        f.write(\"🔸 Budget: ₹\" + str(final_state['input'].get('budget', 'N/A')) + \"\\n\\n\")\n",
        "        f.write(\"💡 Suggested Crops:\\n\" + str(final_state.get(\"crop_suggestions\", \"N/A\")) + \"\\n\\n\")\n",
        "        f.write(\"🧪 Fertilizer Plan:\\n\" + str(final_state.get(\"fertilizer_plan\", \"N/A\")) + \"\\n\\n\")\n",
        "        f.write(\"📈 Estimated Yield: \" + str(final_state.get(\"estimated_yield\", \"N/A\")) + \"\\n\")\n",
        "        f.write(\"💰 Market Price: \" + str(final_state.get(\"market_price\", \"N/A\")) + \"\\n\")\n",
        "        f.write(\"💸 Estimated Profit: \" + str(final_state.get(\"estimated_profit\", \"N/A\")) + \"\\n\\n\")\n",
        "        f.write(\"🧠 AI Comments & Analysis:\\n\" + final_state.get(\"ai_profit_analysis\", \"N/A\") + \"\\n\")\n",
        "    return report_path\n",
        "\n",
        "# Button to trigger export\n",
        "export_btn = widgets.Button(description=\"📄 Export Report\", button_style=\"info\")\n",
        "output_area = widgets.Output()\n",
        "\n",
        "def on_export_clicked(_):\n",
        "    with output_area:\n",
        "        output_area.clear_output()\n",
        "        report_path = export_report(final_state)\n",
        "        files.download(report_path)\n",
        "\n",
        "export_btn.on_click(on_export_clicked)\n",
        "display(export_btn, output_area)"
      ],
      "metadata": {
        "id": "iLWhNjOt1WbD"
      },
      "execution_count": null,
      "outputs": []
    }
  ]
}